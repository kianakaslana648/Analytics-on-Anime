{
 "cells": [
  {
   "cell_type": "markdown",
   "metadata": {},
   "source": [
    "We apply different clustering methods to bullet screen text data of series of four animes."
   ]
  },
  {
   "cell_type": "code",
   "execution_count": 4,
   "metadata": {},
   "outputs": [
    {
     "name": "stderr",
     "output_type": "stream",
     "text": [
      "Building prefix dict from the default dictionary ...\n",
      "Loading model from cache C:\\Users\\cml\\AppData\\Local\\Temp\\jieba.cache\n",
      "Loading model cost 0.595 seconds.\n",
      "Prefix dict has been built successfully.\n"
     ]
    },
    {
     "name": "stdout",
     "output_type": "stream",
     "text": [
      "(51, 34188)\n"
     ]
    }
   ],
   "source": [
    "import pandas as pd\n",
    "import wordcloud\n",
    "from sklearn.feature_extraction.text import CountVectorizer\n",
    "from wordcloud import WordCloud, STOPWORDS\n",
    "from sklearn.cluster import KMeans\n",
    "import os\n",
    "import jieba\n",
    "stop = [line.strip() for line in open('scu_stopwords.txt',encoding='utf-8').readlines() ]\n",
    "\n",
    "names=['black_heart','fate_ubw','violet','dragon_maid']\n",
    "indlist=[range(1,13),range(13,26), range(1,14),range(1,14)]\n",
    "\n",
    "s_list=[]\n",
    "for name_ind in range(4):\n",
    "    name=names[name_ind]\n",
    "    for i in indlist[name_ind]:\n",
    "        tempString = \"\"\n",
    "        File=open('''bilibili bullet screens_cleaned\\{}\\{}_p{}_cleaned.txt'''.format(name,name,i),'r',encoding='utf-8')\n",
    "        for line in File.readlines():\n",
    "            wordlist=jieba.cut(line)\n",
    "            for word in wordlist:\n",
    "                if word not in stop:\n",
    "                    tempString = tempString + word + \" \"\n",
    "        s_list.append(tempString)\n",
    "\n",
    "MyCV=CountVectorizer(input='content')\n",
    "\n",
    "My_DTM = MyCV.fit_transform(s_list)\n",
    "MyColumnNames = MyCV.get_feature_names()\n",
    "\n",
    "df_short=pd.DataFrame(My_DTM.toarray(),columns=MyColumnNames)\n",
    "print(df_short.shape)"
   ]
  },
  {
   "cell_type": "code",
   "execution_count": 5,
   "metadata": {},
   "outputs": [
    {
     "name": "stdout",
     "output_type": "stream",
     "text": [
      "         00  000       001       007   01        02  0216  0221  045556   06  \\\n",
      "0  0.000000  0.0  0.000191  0.001147  0.0  0.000000   0.0   0.0     0.0  0.0   \n",
      "1  0.000000  0.0  0.000000  0.000147  0.0  0.000000   0.0   0.0     0.0  0.0   \n",
      "2  0.000000  0.0  0.000000  0.000282  0.0  0.000141   0.0   0.0     0.0  0.0   \n",
      "3  0.000000  0.0  0.000000  0.000000  0.0  0.000000   0.0   0.0     0.0  0.0   \n",
      "4  0.000164  0.0  0.000164  0.000655  0.0  0.002457   0.0   0.0     0.0  0.0   \n",
      "5  0.000000  0.0  0.000000  0.000294  0.0  0.000000   0.0   0.0     0.0  0.0   \n",
      "\n",
      "   ...       龙骑士   龙鱼        龙龙       龙龙会       龙龙开       龙龙当  龙龙快  龟太快   龟派  \\\n",
      "0  ...  0.000000  0.0  0.000382  0.000000  0.000000  0.000000  0.0  0.0  0.0   \n",
      "1  ...  0.000147  0.0  0.000295  0.000000  0.000147  0.000000  0.0  0.0  0.0   \n",
      "2  ...  0.000000  0.0  0.000282  0.000000  0.000000  0.000000  0.0  0.0  0.0   \n",
      "3  ...  0.000000  0.0  0.000147  0.000147  0.000000  0.000147  0.0  0.0  0.0   \n",
      "4  ...  0.000000  0.0  0.000655  0.000000  0.000000  0.000000  0.0  0.0  0.0   \n",
      "5  ...  0.000000  0.0  0.000294  0.000000  0.000000  0.000000  0.0  0.0  0.0   \n",
      "\n",
      "         龟龟  \n",
      "0  0.000000  \n",
      "1  0.000147  \n",
      "2  0.000000  \n",
      "3  0.000147  \n",
      "4  0.000000  \n",
      "5  0.000000  \n",
      "\n",
      "[6 rows x 34188 columns]\n"
     ]
    }
   ],
   "source": [
    "f_sum=df_short.apply(sum,axis=1)\n",
    "for i in range(0,48):\n",
    "    df_short.iloc[i,:]=df_short.iloc[i,:]/f_sum[i]\n",
    "print(df_short.iloc[0:6,])"
   ]
  },
  {
   "cell_type": "code",
   "execution_count": 117,
   "metadata": {},
   "outputs": [],
   "source": [
    "index=0\n",
    "words=MyColumnNames\n",
    "for name_ind in range(4):\n",
    "    name=names[name_ind]\n",
    "    for i in indlist[name_ind]:\n",
    "        w=wordcloud.WordCloud(font_path ='C:\\\\windows\\\\Fonts\\\\simhei.ttf',background_color=\"white\")\n",
    "        freq=df_short.iloc[index,]\n",
    "        dic=dict(zip(words,freq))\n",
    "        w.generate_from_frequencies(dic)\n",
    "        w.to_file('''bullet_pic\\{}\\{}_p{}.png'''.format(name,name,i))\n",
    "        index=index+1"
   ]
  },
  {
   "cell_type": "code",
   "execution_count": 9,
   "metadata": {},
   "outputs": [
    {
     "data": {
      "image/png": "[encoded data removed]",
      "text/plain": [
       "<Figure size 432x288 with 1 Axes>"
      ]
     },
     "metadata": {
      "needs_background": "light"
     },
     "output_type": "display_data"
    }
   ],
   "source": [
    "import matplotlib.pyplot as plt\n",
    "from sklearn.metrics import silhouette_score\n",
    "list_inertia=[]\n",
    "K=range(1,10)\n",
    "for k in K:\n",
    "    model_kmeans=KMeans(n_clusters=k,init='k-means++')\n",
    "    model_kmeans.fit(df_short)\n",
    "    list_inertia.append(model_kmeans.inertia_)\n",
    "    \n",
    "plt.plot(K, list_inertia, 'bx-')\n",
    "plt.xlabel('k')\n",
    "plt.ylabel('Inertia')\n",
    "plt.title('Elbow Method For Optimal k')\n",
    "plt.show()"
   ]
  },
  {
   "cell_type": "code",
   "execution_count": 13,
   "metadata": {},
   "outputs": [
    {
     "name": "stdout",
     "output_type": "stream",
     "text": [
      "[6 6 6 6 6 6 6 6 6 6 6 7 8 8 8 8 8 8 8 8 8 8 8 8 4 5 5 5 5 6 5 5 5 5 5 5 5\n",
      " 4 0 0 0 0 0 0 0 0 0 0 3 2 1]\n"
     ]
    }
   ],
   "source": [
    "model=KMeans(n_clusters=9,init='k-means++')\n",
    "model.fit(df_short)\n",
    "label=model.labels_\n",
    "print(label)"
   ]
  },
  {
   "cell_type": "code",
   "execution_count": 16,
   "metadata": {},
   "outputs": [
    {
     "name": "stdout",
     "output_type": "stream",
     "text": [
      "[3 3 3 3 3 3 3 3 3 3 3 5 2 2 2 2 2 2 2 2 2 2 2 2 1 0 0 0 0 0 0 0 0 0 0 0 0\n",
      " 1 8 8 8 8 8 8 8 8 8 8 7 6 4]\n"
     ]
    }
   ],
   "source": [
    "from sklearn.cluster import AgglomerativeClustering\n",
    "model=AgglomerativeClustering(n_clusters=9,affinity='euclidean')\n",
    "model.fit(df_short)\n",
    "label=model.labels_\n",
    "print(label)"
   ]
  },
  {
   "cell_type": "code",
   "execution_count": 17,
   "metadata": {},
   "outputs": [
    {
     "name": "stdout",
     "output_type": "stream",
     "text": [
      "[1 1 1 1 1 1 1 1 1 1 1 3 6 6 6 6 6 6 6 6 6 6 6 6 3 2 2 2 2 2 2 2 2 2 2 2 2\n",
      " 3 0 0 0 0 0 0 0 0 0 0 7 5 4]\n"
     ]
    }
   ],
   "source": [
    "model=AgglomerativeClustering(n_clusters=8,affinity='manhattan',linkage='complete')\n",
    "model.fit(df_short)\n",
    "label=model.labels_\n",
    "print(label)"
   ]
  },
  {
   "cell_type": "code",
   "execution_count": 142,
   "metadata": {},
   "outputs": [
    {
     "name": "stdout",
     "output_type": "stream",
     "text": [
      "[2 2 2 2 2 2 2 2 2 2 2 3 1 1 1 1 1 1 1 1 1 1 1 1 3 0 0 0 0 0 0 0 0 0 0 0 0\n",
      " 3 4 4 4 4 4 4 4 4 4 4 4 4 3]\n"
     ]
    }
   ],
   "source": [
    "model=AgglomerativeClustering(n_clusters=5,affinity='cosine',linkage='complete')\n",
    "model.fit(df_short)\n",
    "label=model.labels_\n",
    "print(label)"
   ]
  },
  {
   "cell_type": "code",
   "execution_count": 112,
   "metadata": {},
   "outputs": [
    {
     "name": "stdout",
     "output_type": "stream",
     "text": [
      "[ 0  0  0 -1 -1  0 -1  0  0  0  0 -1  1  1  1  1  1  1  1  1  1  1  1  1\n",
      " -1 -1 -1 -1 -1 -1 -1 -1 -1 -1 -1 -1 -1 -1  2  2  2  2 -1  2 -1  2 -1 -1\n",
      " -1 -1 -1]\n"
     ]
    }
   ],
   "source": [
    "from sklearn.cluster import DBSCAN\n",
    "model=DBSCAN(eps=0.05)\n",
    "model.fit(df_short)\n",
    "label=model.labels_\n",
    "print(label)"
   ]
  }
 ],
 "metadata": {
  "kernelspec": {
   "display_name": "Python 3",
   "language": "python",
   "name": "python3"
  },
  "language_info": {
   "codemirror_mode": {
    "name": "ipython",
    "version": 3
   },
   "file_extension": ".py",
   "mimetype": "text/x-python",
   "name": "python",
   "nbconvert_exporter": "python",
   "pygments_lexer": "ipython3",
   "version": "3.7.9"
  }
 },
 "nbformat": 4,
 "nbformat_minor": 4
}
